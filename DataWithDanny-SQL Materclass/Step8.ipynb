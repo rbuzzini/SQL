{
 "cells": [
  {
   "cell_type": "markdown",
   "metadata": {},
   "source": [
    "# Step 8 - The Final Case Study"
   ]
  },
  {
   "cell_type": "markdown",
   "metadata": {},
   "source": [
    "Now that we've tackled a more complicated series of questions - let's take it to the next level!\n",
    "\n",
    "In these final questions - we will try to assess the profitability of our mentors and their crypto portfolios.\n",
    "\n",
    "It's not enough for our team of mentors to just hold a lot of crypto - we wish to see the various prices for every transaction that occured, calculate the total fee amounts and also calculate some final profit metrics."
   ]
  },
  {
   "cell_type": "markdown",
   "metadata": {},
   "source": [
    "## Simple Scenario Breakdown\n",
    "\n",
    "Often when faced with a difficult problem like we have right now - the first step is to try and break down our complex situation into a very simple scenarios to try and understand what we have to do!\n",
    "1. Buy and hold (HOLD Strategy)\n",
    "2. Buy and keep buying (Bull Strategy)\n",
    "3. Buy and sell (Trader Strategy)\n",
    "\n",
    "In the next 3 steps - we will cover each strategy by simplifying our existing `trading.transactions` table to answer more questions!"
   ]
  },
  {
   "cell_type": "markdown",
   "metadata": {},
   "source": [
    "# References\n",
    "\n",
    "- [Data With Danny Course - Step 8](https://github.com/DataWithDanny/sql-masterclass/blob/main/course-content/step8.md)"
   ]
  }
 ],
 "metadata": {
  "interpreter": {
   "hash": "af08a664c9379a2eef6a59a35895b3c7b95bf968efc61f7032ca2d38064b34f9"
  },
  "kernelspec": {
   "display_name": "Python 3.9.5 64-bit",
   "language": "python",
   "name": "python3"
  },
  "language_info": {
   "name": "python",
   "version": "3.9.5"
  },
  "orig_nbformat": 4
 },
 "nbformat": 4,
 "nbformat_minor": 2
}
