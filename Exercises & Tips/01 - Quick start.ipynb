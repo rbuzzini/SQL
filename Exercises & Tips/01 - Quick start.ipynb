{
 "cells": [
  {
   "cell_type": "markdown",
   "source": [
    "# Quick start\r\n",
    "This quick start is a complete example to show how to:\r\n",
    "\r\n",
    "- create a SQLite database\r\n",
    "- create a data table\r\n",
    "- insert data into the table\r\n",
    "- query data from the table"
   ],
   "metadata": {}
  },
  {
   "cell_type": "code",
   "execution_count": 6,
   "source": [
    "import sqlite3"
   ],
   "outputs": [],
   "metadata": {}
  },
  {
   "cell_type": "markdown",
   "source": [
    "## Create A SQLite database\r\n",
    "For practice purposes, it's advisable to create your own database, so that you are free to perform any operations on it. If using the SQLite shell, we can apply the open command to both create a SQLite database or open it in case it already exists just like:"
   ],
   "metadata": {}
  },
  {
   "cell_type": "code",
   "execution_count": 7,
   "source": [
    "#Connecting to sqlite\r\n",
    "conn = sqlite3.connect('data/writers.db')"
   ],
   "outputs": [],
   "metadata": {}
  },
  {
   "cell_type": "markdown",
   "source": [
    "## Create a table\r\n",
    "%%sql let you use multiple SQL statements inside a single cell.\r\n",
    "\r\n",
    "It is now time to create one using a standard SQL command – CREATE TABLE. If the table already existed in the database, an error will pop up. In addition, we set PRIMARY KEY on USERID to prevent from inserting duplicate writers into the table."
   ],
   "metadata": {}
  },
  {
   "cell_type": "code",
   "execution_count": null,
   "source": [
    "#Creating a cursor object using the cursor() method\r\n",
    "cursor = conn.cursor()\r\n",
    "\r\n",
    "#Creating table as per requirement\r\n",
    "sql ='''CREATE TABLE writers(\r\n",
    "    FirstName VARCHAR(50) NOT NULL,\r\n",
    "    LastName VARCHAR(50) NOT NULL,  \r\n",
    "    USERID int  NOT NULL UNIQUE, \r\n",
    "    PRIMARY KEY (USERID)\r\n",
    ")'''\r\n",
    "cursor.execute(sql)"
   ],
   "outputs": [],
   "metadata": {}
  },
  {
   "cell_type": "markdown",
   "source": [
    "## Add data to the table\r\n",
    "The table we have j st created is empty. Now we insert some sample data inside it. To populate this data in the form of rows, we use the command INSERT."
   ],
   "metadata": {}
  },
  {
   "cell_type": "code",
   "execution_count": null,
   "source": [
    "cursor.execute('''INSERT INTO writers\r\n",
    "                  VALUES('William', 'Shakespeare', 1616)''')\r\n",
    "cursor.execute('''INSERT INTO writers\r\n",
    "                  VALUES('Lin', 'Han', 1996)''')\r\n",
    "cursor.execute('''INSERT INTO writers\r\n",
    "                  VALUES('Peter', 'Brecht', 1978)''')\r\n",
    "\r\n",
    "# commit changes to db\r\n",
    "conn.commit()\r\n",
    "# close the connection\r\n",
    "# conn.close()                               "
   ],
   "outputs": [],
   "metadata": {}
  },
  {
   "cell_type": "markdown",
   "source": [
    "## Write the First Query\r\n",
    "Let us now turn our attention to writing a simple query to check the results of our previous operations in which we created a table and inserted three rows of data into it. For this, we would use the command called SELECT.\r\n",
    "\r\n",
    "We can put the query result into a variable such as the following sqlres."
   ],
   "metadata": {}
  },
  {
   "cell_type": "code",
   "execution_count": null,
   "source": [
    "sqlres =  conn.cursor().execute('''SELECT *\r\n",
    "                                FROM writers''')\r\n",
    "sqlres.fetchall()"
   ],
   "outputs": [
    {
     "output_type": "execute_result",
     "data": {
      "text/plain": [
       "[('William', 'Shakespeare', 1616),\n",
       " ('Lin', 'Han', 1996),\n",
       " ('Peter', 'Brecht', 1978)]"
      ]
     },
     "metadata": {},
     "execution_count": 5
    }
   ],
   "metadata": {}
  },
  {
   "cell_type": "markdown",
   "source": [
    "You also can select the specific colummns using their names just like:"
   ],
   "metadata": {}
  },
  {
   "cell_type": "code",
   "execution_count": null,
   "source": [
    "sqlres2 = conn.cursor().execute('''\r\n",
    "    SELECT FirstName, LastName\r\n",
    "    FROM writers''')\r\n",
    "sqlres2.fetchall()"
   ],
   "outputs": [
    {
     "output_type": "execute_result",
     "data": {
      "text/plain": [
       "[('William', 'Shakespeare'), ('Lin', 'Han'), ('Peter', 'Brecht')]"
      ]
     },
     "metadata": {},
     "execution_count": 32
    }
   ],
   "metadata": {}
  },
  {
   "cell_type": "markdown",
   "source": [
    "# References:\r\n",
    "- [Chonghua Yin notebook](https://github.com/royalosyin/Practice-SQL-with-SQLite-and-Jupyter-Notebook/blob/master/ex01-Quick%20Start.ipynb)"
   ],
   "metadata": {}
  }
 ],
 "metadata": {
  "orig_nbformat": 4,
  "language_info": {
   "name": "python",
   "version": "3.9.5",
   "mimetype": "text/x-python",
   "codemirror_mode": {
    "name": "ipython",
    "version": 3
   },
   "pygments_lexer": "ipython3",
   "nbconvert_exporter": "python",
   "file_extension": ".py"
  },
  "kernelspec": {
   "name": "python3",
   "display_name": "Python 3.9.5 64-bit"
  },
  "interpreter": {
   "hash": "af08a664c9379a2eef6a59a35895b3c7b95bf968efc61f7032ca2d38064b34f9"
  }
 },
 "nbformat": 4,
 "nbformat_minor": 2
}