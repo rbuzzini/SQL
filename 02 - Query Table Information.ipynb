{
 "cells": [
  {
   "cell_type": "markdown",
   "source": [
    "# Query Table Information\r\n",
    "This notebook will show how to query the number of tables and a table'columns given a database using the powerful SELECT."
   ],
   "metadata": {}
  },
  {
   "cell_type": "code",
   "execution_count": 1,
   "source": [
    "import sqlite3 as sql"
   ],
   "outputs": [],
   "metadata": {}
  },
  {
   "cell_type": "markdown",
   "source": [
    "### Connet to the given database of demo.db3"
   ],
   "metadata": {}
  },
  {
   "cell_type": "code",
   "execution_count": 2,
   "source": [
    "conn = sql.connect('data/writers.db')"
   ],
   "outputs": [],
   "metadata": {}
  },
  {
   "cell_type": "markdown",
   "source": [
    "### List tables in a database\r\n",
    "Table and index names can be list by doing a SELECT on a special table named \"SQLITE_MASTER\". Every SQLite database has an SQLITE_MASTER table that defines the schema for the database. For tables, the type field will always be 'table' and the name field will be the name of the table. So to get a list of all tables in the database, use the following SELECT command:"
   ],
   "metadata": {}
  },
  {
   "cell_type": "code",
   "execution_count": 3,
   "source": [
    "table_list = conn.cursor().execute('''\r\n",
    "                SELECT name\r\n",
    "                FROM sqlite_master\r\n",
    "                WHERE type='table' ''')\r\n",
    "table_list.fetchall()"
   ],
   "outputs": [
    {
     "output_type": "execute_result",
     "data": {
      "text/plain": [
       "[('writers',)]"
      ]
     },
     "metadata": {},
     "execution_count": 3
    }
   ],
   "metadata": {}
  },
  {
   "cell_type": "markdown",
   "source": [
    "### List columns in a table\r\n",
    "We take the table of writers as an example"
   ],
   "metadata": {}
  },
  {
   "cell_type": "code",
   "execution_count": 4,
   "source": [
    "columns = conn.cursor().execute('''\r\n",
    "    PRAGMA table_info(writers)\r\n",
    "    ''')\r\n",
    "columns.fetchall()"
   ],
   "outputs": [
    {
     "output_type": "execute_result",
     "data": {
      "text/plain": [
       "[(0, 'FirstName', 'VARCHAR(50)', 1, None, 0),\n",
       " (1, 'LastName', 'VARCHAR(50)', 1, None, 0),\n",
       " (2, 'USERID', 'int', 1, None, 1)]"
      ]
     },
     "metadata": {},
     "execution_count": 4
    }
   ],
   "metadata": {}
  },
  {
   "cell_type": "markdown",
   "source": [
    "# References\r\n",
    "- [Chonghua Yin notebook](https://github.com/royalosyin/Practice-SQL-with-SQLite-and-Jupyter-Notebook/blob/master/ex02-Query%20Table%20Information.ipynb)"
   ],
   "metadata": {}
  }
 ],
 "metadata": {
  "orig_nbformat": 4,
  "language_info": {
   "name": "python",
   "version": "3.9.5",
   "mimetype": "text/x-python",
   "codemirror_mode": {
    "name": "ipython",
    "version": 3
   },
   "pygments_lexer": "ipython3",
   "nbconvert_exporter": "python",
   "file_extension": ".py"
  },
  "kernelspec": {
   "name": "python3",
   "display_name": "Python 3.9.5 64-bit"
  },
  "interpreter": {
   "hash": "af08a664c9379a2eef6a59a35895b3c7b95bf968efc61f7032ca2d38064b34f9"
  }
 },
 "nbformat": 4,
 "nbformat_minor": 2
}