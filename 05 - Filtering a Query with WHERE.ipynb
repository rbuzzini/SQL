{
 "cells": [
  {
   "cell_type": "markdown",
   "source": [
    "# Filtering a Query with WHERE\r\n",
    "Sometimes, you’ll want to only check the rows returned by a query, where one or more columns meet certain criteria. This can be done with a WHERE statement. The WHERE clause is an optional clause of the SELECT statement. It appears after the FROM clause as the following statement:\r\n",
    "\r\n",
    "- SELECT column_list FROM table_name WHERE search_condition;"
   ],
   "metadata": {}
  },
  {
   "cell_type": "code",
   "execution_count": 1,
   "source": [
    "import pandas as pd\r\n",
    "import mysql.connector as sql\r\n",
    "import os"
   ],
   "outputs": [],
   "metadata": {}
  },
  {
   "cell_type": "code",
   "execution_count": 3,
   "source": [
    "connection = sql.connect(\r\n",
    "    host = os.environ.get('mysql_host'),\r\n",
    "    user = os.environ.get('mysql_user'),\r\n",
    "    password = os.environ.get('mysql_password')\r\n",
    ")\r\n",
    "\r\n",
    "cursor = connection.cursor()"
   ],
   "outputs": [],
   "metadata": {}
  },
  {
   "cell_type": "markdown",
   "source": [
    "\r\n",
    "If you do not remember the tables in the world data, you can always use the follow command to query."
   ],
   "metadata": {}
  },
  {
   "cell_type": "code",
   "execution_count": 6,
   "source": [
    "pd.read_sql_query(\"\"\"\r\n",
    "    SHOW TABLES\r\n",
    "    FROM world\"\"\",\r\n",
    "    connection)"
   ],
   "outputs": [
    {
     "output_type": "execute_result",
     "data": {
      "text/html": [
       "<div>\n",
       "<style scoped>\n",
       "    .dataframe tbody tr th:only-of-type {\n",
       "        vertical-align: middle;\n",
       "    }\n",
       "\n",
       "    .dataframe tbody tr th {\n",
       "        vertical-align: top;\n",
       "    }\n",
       "\n",
       "    .dataframe thead th {\n",
       "        text-align: right;\n",
       "    }\n",
       "</style>\n",
       "<table border=\"1\" class=\"dataframe\">\n",
       "  <thead>\n",
       "    <tr style=\"text-align: right;\">\n",
       "      <th></th>\n",
       "      <th>Tables_in_world</th>\n",
       "    </tr>\n",
       "  </thead>\n",
       "  <tbody>\n",
       "    <tr>\n",
       "      <th>0</th>\n",
       "      <td>city</td>\n",
       "    </tr>\n",
       "    <tr>\n",
       "      <th>1</th>\n",
       "      <td>country</td>\n",
       "    </tr>\n",
       "    <tr>\n",
       "      <th>2</th>\n",
       "      <td>countrylanguage</td>\n",
       "    </tr>\n",
       "  </tbody>\n",
       "</table>\n",
       "</div>"
      ],
      "text/plain": [
       "   Tables_in_world\n",
       "0             city\n",
       "1          country\n",
       "2  countrylanguage"
      ]
     },
     "metadata": {},
     "execution_count": 6
    }
   ],
   "metadata": {}
  },
  {
   "cell_type": "markdown",
   "source": [
    "### 1. Retrieving data with WHERE\r\n",
    "Take the table of city as an example.\r\n",
    "\r\n",
    "2.1 Check the table columns firstly."
   ],
   "metadata": {}
  },
  {
   "cell_type": "code",
   "execution_count": 9,
   "source": [
    "pd.read_sql_query(\"\"\"\r\n",
    "    DESCRIBE world.city\r\n",
    "    \"\"\",\r\n",
    "    connection)"
   ],
   "outputs": [
    {
     "output_type": "execute_result",
     "data": {
      "text/html": [
       "<div>\n",
       "<style scoped>\n",
       "    .dataframe tbody tr th:only-of-type {\n",
       "        vertical-align: middle;\n",
       "    }\n",
       "\n",
       "    .dataframe tbody tr th {\n",
       "        vertical-align: top;\n",
       "    }\n",
       "\n",
       "    .dataframe thead th {\n",
       "        text-align: right;\n",
       "    }\n",
       "</style>\n",
       "<table border=\"1\" class=\"dataframe\">\n",
       "  <thead>\n",
       "    <tr style=\"text-align: right;\">\n",
       "      <th></th>\n",
       "      <th>Field</th>\n",
       "      <th>Type</th>\n",
       "      <th>Null</th>\n",
       "      <th>Key</th>\n",
       "      <th>Default</th>\n",
       "      <th>Extra</th>\n",
       "    </tr>\n",
       "  </thead>\n",
       "  <tbody>\n",
       "    <tr>\n",
       "      <th>0</th>\n",
       "      <td>ID</td>\n",
       "      <td>b'int'</td>\n",
       "      <td>NO</td>\n",
       "      <td>PRI</td>\n",
       "      <td>None</td>\n",
       "      <td>auto_increment</td>\n",
       "    </tr>\n",
       "    <tr>\n",
       "      <th>1</th>\n",
       "      <td>Name</td>\n",
       "      <td>b'char(35)'</td>\n",
       "      <td>NO</td>\n",
       "      <td></td>\n",
       "      <td>b''</td>\n",
       "      <td></td>\n",
       "    </tr>\n",
       "    <tr>\n",
       "      <th>2</th>\n",
       "      <td>CountryCode</td>\n",
       "      <td>b'char(3)'</td>\n",
       "      <td>NO</td>\n",
       "      <td>MUL</td>\n",
       "      <td>b''</td>\n",
       "      <td></td>\n",
       "    </tr>\n",
       "    <tr>\n",
       "      <th>3</th>\n",
       "      <td>District</td>\n",
       "      <td>b'char(20)'</td>\n",
       "      <td>NO</td>\n",
       "      <td></td>\n",
       "      <td>b''</td>\n",
       "      <td></td>\n",
       "    </tr>\n",
       "    <tr>\n",
       "      <th>4</th>\n",
       "      <td>Population</td>\n",
       "      <td>b'int'</td>\n",
       "      <td>NO</td>\n",
       "      <td></td>\n",
       "      <td>b'0'</td>\n",
       "      <td></td>\n",
       "    </tr>\n",
       "  </tbody>\n",
       "</table>\n",
       "</div>"
      ],
      "text/plain": [
       "         Field         Type Null  Key Default           Extra\n",
       "0           ID       b'int'   NO  PRI    None  auto_increment\n",
       "1         Name  b'char(35)'   NO          b''                \n",
       "2  CountryCode   b'char(3)'   NO  MUL     b''                \n",
       "3     District  b'char(20)'   NO          b''                \n",
       "4   Population       b'int'   NO         b'0'                "
      ]
     },
     "metadata": {},
     "execution_count": 9
    }
   ],
   "metadata": {}
  },
  {
   "cell_type": "markdown",
   "source": [
    "2.2 Check the number of rows."
   ],
   "metadata": {}
  },
  {
   "cell_type": "code",
   "execution_count": 11,
   "source": [
    "pd.read_sql_query(\"\"\"\r\n",
    "    SELECT COUNT(*) AS nrow\r\n",
    "    FROM world.city\"\"\",\r\n",
    "    connection)"
   ],
   "outputs": [
    {
     "output_type": "execute_result",
     "data": {
      "text/html": [
       "<div>\n",
       "<style scoped>\n",
       "    .dataframe tbody tr th:only-of-type {\n",
       "        vertical-align: middle;\n",
       "    }\n",
       "\n",
       "    .dataframe tbody tr th {\n",
       "        vertical-align: top;\n",
       "    }\n",
       "\n",
       "    .dataframe thead th {\n",
       "        text-align: right;\n",
       "    }\n",
       "</style>\n",
       "<table border=\"1\" class=\"dataframe\">\n",
       "  <thead>\n",
       "    <tr style=\"text-align: right;\">\n",
       "      <th></th>\n",
       "      <th>nrow</th>\n",
       "    </tr>\n",
       "  </thead>\n",
       "  <tbody>\n",
       "    <tr>\n",
       "      <th>0</th>\n",
       "      <td>4079</td>\n",
       "    </tr>\n",
       "  </tbody>\n",
       "</table>\n",
       "</div>"
      ],
      "text/plain": [
       "   nrow\n",
       "0  4079"
      ]
     },
     "metadata": {},
     "execution_count": 11
    }
   ],
   "metadata": {}
  },
  {
   "cell_type": "markdown",
   "source": [
    "2.3 Use WHERE to retrieve data\r\n",
    "\r\n",
    "Let’s say we are interested in records for only the year 1981. Using a WHERE is pretty straightforward for a simple criterion like this: I want to see the population of New York city."
   ],
   "metadata": {}
  },
  {
   "cell_type": "code",
   "execution_count": 14,
   "source": [
    "pd.read_sql_query(\"\"\"\r\n",
    "    SELECT *\r\n",
    "    FROM world.city\r\n",
    "    WHERE Name='New York'\r\n",
    "    \"\"\",\r\n",
    "    connection)"
   ],
   "outputs": [
    {
     "output_type": "execute_result",
     "data": {
      "text/html": [
       "<div>\n",
       "<style scoped>\n",
       "    .dataframe tbody tr th:only-of-type {\n",
       "        vertical-align: middle;\n",
       "    }\n",
       "\n",
       "    .dataframe tbody tr th {\n",
       "        vertical-align: top;\n",
       "    }\n",
       "\n",
       "    .dataframe thead th {\n",
       "        text-align: right;\n",
       "    }\n",
       "</style>\n",
       "<table border=\"1\" class=\"dataframe\">\n",
       "  <thead>\n",
       "    <tr style=\"text-align: right;\">\n",
       "      <th></th>\n",
       "      <th>ID</th>\n",
       "      <th>Name</th>\n",
       "      <th>CountryCode</th>\n",
       "      <th>District</th>\n",
       "      <th>Population</th>\n",
       "    </tr>\n",
       "  </thead>\n",
       "  <tbody>\n",
       "    <tr>\n",
       "      <th>0</th>\n",
       "      <td>3793</td>\n",
       "      <td>New York</td>\n",
       "      <td>USA</td>\n",
       "      <td>New York</td>\n",
       "      <td>8008278</td>\n",
       "    </tr>\n",
       "  </tbody>\n",
       "</table>\n",
       "</div>"
      ],
      "text/plain": [
       "     ID      Name CountryCode  District  Population\n",
       "0  3793  New York         USA  New York     8008278"
      ]
     },
     "metadata": {},
     "execution_count": 14
    }
   ],
   "metadata": {}
  },
  {
   "cell_type": "markdown",
   "source": [
    "2.4 Use AND to further filter data"
   ],
   "metadata": {}
  },
  {
   "cell_type": "code",
   "execution_count": 19,
   "source": [
    "pd.read_sql_query(\"\"\"\r\n",
    "    SELECT Name\r\n",
    "    FROM world.city\r\n",
    "    WHERE CountryCode='USA' AND Population > 5000000\"\"\",\r\n",
    "    connection)"
   ],
   "outputs": [
    {
     "output_type": "execute_result",
     "data": {
      "text/html": [
       "<div>\n",
       "<style scoped>\n",
       "    .dataframe tbody tr th:only-of-type {\n",
       "        vertical-align: middle;\n",
       "    }\n",
       "\n",
       "    .dataframe tbody tr th {\n",
       "        vertical-align: top;\n",
       "    }\n",
       "\n",
       "    .dataframe thead th {\n",
       "        text-align: right;\n",
       "    }\n",
       "</style>\n",
       "<table border=\"1\" class=\"dataframe\">\n",
       "  <thead>\n",
       "    <tr style=\"text-align: right;\">\n",
       "      <th></th>\n",
       "      <th>Name</th>\n",
       "    </tr>\n",
       "  </thead>\n",
       "  <tbody>\n",
       "    <tr>\n",
       "      <th>0</th>\n",
       "      <td>New York</td>\n",
       "    </tr>\n",
       "  </tbody>\n",
       "</table>\n",
       "</div>"
      ],
      "text/plain": [
       "       Name\n",
       "0  New York"
      ]
     },
     "metadata": {},
     "execution_count": 19
    }
   ],
   "metadata": {}
  },
  {
   "cell_type": "markdown",
   "source": [
    "2.5 More combinations of filters\r\n",
    "We also can further filter data with the operators of != or <> to get data except USA."
   ],
   "metadata": {}
  },
  {
   "cell_type": "code",
   "execution_count": 20,
   "source": [
    "pd.read_sql_query(\"\"\"\r\n",
    "    SELECT COUNT(*)\r\n",
    "    FROM world.city\r\n",
    "    WHERE CountryCode!='USA' AND Population > 5000000\"\"\",\r\n",
    "    connection)"
   ],
   "outputs": [
    {
     "output_type": "execute_result",
     "data": {
      "text/html": [
       "<div>\n",
       "<style scoped>\n",
       "    .dataframe tbody tr th:only-of-type {\n",
       "        vertical-align: middle;\n",
       "    }\n",
       "\n",
       "    .dataframe tbody tr th {\n",
       "        vertical-align: top;\n",
       "    }\n",
       "\n",
       "    .dataframe thead th {\n",
       "        text-align: right;\n",
       "    }\n",
       "</style>\n",
       "<table border=\"1\" class=\"dataframe\">\n",
       "  <thead>\n",
       "    <tr style=\"text-align: right;\">\n",
       "      <th></th>\n",
       "      <th>COUNT(*)</th>\n",
       "    </tr>\n",
       "  </thead>\n",
       "  <tbody>\n",
       "    <tr>\n",
       "      <th>0</th>\n",
       "      <td>23</td>\n",
       "    </tr>\n",
       "  </tbody>\n",
       "</table>\n",
       "</div>"
      ],
      "text/plain": [
       "   COUNT(*)\n",
       "0        23"
      ]
     },
     "metadata": {},
     "execution_count": 20
    }
   ],
   "metadata": {}
  },
  {
   "cell_type": "markdown",
   "source": [
    "We can further filter the data to spefic months using OR statement. For example, we'd like check the data in the months of 3, 6 and 9. However, we have to use () to make them as one condition. It is a trick. You can try!\r\n",
    "\r\n",
    "Selecting USA and Chinese cities with more than 5M of inhabitants:"
   ],
   "metadata": {}
  },
  {
   "cell_type": "code",
   "execution_count": 27,
   "source": [
    "pd.read_sql_query(\"\"\"\r\n",
    "    SELECT *\r\n",
    "    FROM world.city\r\n",
    "    WHERE Population > 5000000 AND (CountryCode='USA' OR CountryCode='CHN')\"\"\",\r\n",
    "    connection)"
   ],
   "outputs": [
    {
     "output_type": "execute_result",
     "data": {
      "text/html": [
       "<div>\n",
       "<style scoped>\n",
       "    .dataframe tbody tr th:only-of-type {\n",
       "        vertical-align: middle;\n",
       "    }\n",
       "\n",
       "    .dataframe tbody tr th {\n",
       "        vertical-align: top;\n",
       "    }\n",
       "\n",
       "    .dataframe thead th {\n",
       "        text-align: right;\n",
       "    }\n",
       "</style>\n",
       "<table border=\"1\" class=\"dataframe\">\n",
       "  <thead>\n",
       "    <tr style=\"text-align: right;\">\n",
       "      <th></th>\n",
       "      <th>ID</th>\n",
       "      <th>Name</th>\n",
       "      <th>CountryCode</th>\n",
       "      <th>District</th>\n",
       "      <th>Population</th>\n",
       "    </tr>\n",
       "  </thead>\n",
       "  <tbody>\n",
       "    <tr>\n",
       "      <th>0</th>\n",
       "      <td>1890</td>\n",
       "      <td>Shanghai</td>\n",
       "      <td>CHN</td>\n",
       "      <td>Shanghai</td>\n",
       "      <td>9696300</td>\n",
       "    </tr>\n",
       "    <tr>\n",
       "      <th>1</th>\n",
       "      <td>1891</td>\n",
       "      <td>Peking</td>\n",
       "      <td>CHN</td>\n",
       "      <td>Peking</td>\n",
       "      <td>7472000</td>\n",
       "    </tr>\n",
       "    <tr>\n",
       "      <th>2</th>\n",
       "      <td>1892</td>\n",
       "      <td>Chongqing</td>\n",
       "      <td>CHN</td>\n",
       "      <td>Chongqing</td>\n",
       "      <td>6351600</td>\n",
       "    </tr>\n",
       "    <tr>\n",
       "      <th>3</th>\n",
       "      <td>1893</td>\n",
       "      <td>Tianjin</td>\n",
       "      <td>CHN</td>\n",
       "      <td>Tianjin</td>\n",
       "      <td>5286800</td>\n",
       "    </tr>\n",
       "    <tr>\n",
       "      <th>4</th>\n",
       "      <td>3793</td>\n",
       "      <td>New York</td>\n",
       "      <td>USA</td>\n",
       "      <td>New York</td>\n",
       "      <td>8008278</td>\n",
       "    </tr>\n",
       "  </tbody>\n",
       "</table>\n",
       "</div>"
      ],
      "text/plain": [
       "     ID       Name CountryCode   District  Population\n",
       "0  1890   Shanghai         CHN   Shanghai     9696300\n",
       "1  1891     Peking         CHN     Peking     7472000\n",
       "2  1892  Chongqing         CHN  Chongqing     6351600\n",
       "3  1893    Tianjin         CHN    Tianjin     5286800\n",
       "4  3793   New York         USA   New York     8008278"
      ]
     },
     "metadata": {},
     "execution_count": 27
    }
   ],
   "metadata": {}
  },
  {
   "cell_type": "markdown",
   "source": [
    "Or we can simplify the above filter using the IN statement."
   ],
   "metadata": {}
  },
  {
   "cell_type": "code",
   "execution_count": 28,
   "source": [
    "pd.read_sql_query(\"\"\"\r\n",
    "    SELECT *\r\n",
    "    FROM world.city\r\n",
    "    WHERE Population > 5000000 AND CountryCode IN ('USA', 'CHN')\"\"\",\r\n",
    "    connection)"
   ],
   "outputs": [
    {
     "output_type": "execute_result",
     "data": {
      "text/html": [
       "<div>\n",
       "<style scoped>\n",
       "    .dataframe tbody tr th:only-of-type {\n",
       "        vertical-align: middle;\n",
       "    }\n",
       "\n",
       "    .dataframe tbody tr th {\n",
       "        vertical-align: top;\n",
       "    }\n",
       "\n",
       "    .dataframe thead th {\n",
       "        text-align: right;\n",
       "    }\n",
       "</style>\n",
       "<table border=\"1\" class=\"dataframe\">\n",
       "  <thead>\n",
       "    <tr style=\"text-align: right;\">\n",
       "      <th></th>\n",
       "      <th>ID</th>\n",
       "      <th>Name</th>\n",
       "      <th>CountryCode</th>\n",
       "      <th>District</th>\n",
       "      <th>Population</th>\n",
       "    </tr>\n",
       "  </thead>\n",
       "  <tbody>\n",
       "    <tr>\n",
       "      <th>0</th>\n",
       "      <td>1890</td>\n",
       "      <td>Shanghai</td>\n",
       "      <td>CHN</td>\n",
       "      <td>Shanghai</td>\n",
       "      <td>9696300</td>\n",
       "    </tr>\n",
       "    <tr>\n",
       "      <th>1</th>\n",
       "      <td>1891</td>\n",
       "      <td>Peking</td>\n",
       "      <td>CHN</td>\n",
       "      <td>Peking</td>\n",
       "      <td>7472000</td>\n",
       "    </tr>\n",
       "    <tr>\n",
       "      <th>2</th>\n",
       "      <td>1892</td>\n",
       "      <td>Chongqing</td>\n",
       "      <td>CHN</td>\n",
       "      <td>Chongqing</td>\n",
       "      <td>6351600</td>\n",
       "    </tr>\n",
       "    <tr>\n",
       "      <th>3</th>\n",
       "      <td>1893</td>\n",
       "      <td>Tianjin</td>\n",
       "      <td>CHN</td>\n",
       "      <td>Tianjin</td>\n",
       "      <td>5286800</td>\n",
       "    </tr>\n",
       "    <tr>\n",
       "      <th>4</th>\n",
       "      <td>3793</td>\n",
       "      <td>New York</td>\n",
       "      <td>USA</td>\n",
       "      <td>New York</td>\n",
       "      <td>8008278</td>\n",
       "    </tr>\n",
       "  </tbody>\n",
       "</table>\n",
       "</div>"
      ],
      "text/plain": [
       "     ID       Name CountryCode   District  Population\n",
       "0  1890   Shanghai         CHN   Shanghai     9696300\n",
       "1  1891     Peking         CHN     Peking     7472000\n",
       "2  1892  Chongqing         CHN  Chongqing     6351600\n",
       "3  1893    Tianjin         CHN    Tianjin     5286800\n",
       "4  3793   New York         USA   New York     8008278"
      ]
     },
     "metadata": {},
     "execution_count": 28
    }
   ],
   "metadata": {}
  },
  {
   "cell_type": "markdown",
   "source": [
    "Or the cities with 5M+ inhabitants NOT IN USA or China"
   ],
   "metadata": {}
  },
  {
   "cell_type": "code",
   "execution_count": 29,
   "source": [
    "pd.read_sql_query(\"\"\"\r\n",
    "    SELECT *\r\n",
    "    FROM world.city\r\n",
    "    WHERE Population > 5000000 AND CountryCode NOT IN ('USA', 'CHN')\"\"\",\r\n",
    "    connection)"
   ],
   "outputs": [
    {
     "output_type": "execute_result",
     "data": {
      "text/html": [
       "<div>\n",
       "<style scoped>\n",
       "    .dataframe tbody tr th:only-of-type {\n",
       "        vertical-align: middle;\n",
       "    }\n",
       "\n",
       "    .dataframe tbody tr th {\n",
       "        vertical-align: top;\n",
       "    }\n",
       "\n",
       "    .dataframe thead th {\n",
       "        text-align: right;\n",
       "    }\n",
       "</style>\n",
       "<table border=\"1\" class=\"dataframe\">\n",
       "  <thead>\n",
       "    <tr style=\"text-align: right;\">\n",
       "      <th></th>\n",
       "      <th>ID</th>\n",
       "      <th>Name</th>\n",
       "      <th>CountryCode</th>\n",
       "      <th>District</th>\n",
       "      <th>Population</th>\n",
       "    </tr>\n",
       "  </thead>\n",
       "  <tbody>\n",
       "    <tr>\n",
       "      <th>0</th>\n",
       "      <td>206</td>\n",
       "      <td>SÃ£o Paulo</td>\n",
       "      <td>BRA</td>\n",
       "      <td>SÃ£o Paulo</td>\n",
       "      <td>9968485</td>\n",
       "    </tr>\n",
       "    <tr>\n",
       "      <th>1</th>\n",
       "      <td>207</td>\n",
       "      <td>Rio de Janeiro</td>\n",
       "      <td>BRA</td>\n",
       "      <td>Rio de Janeiro</td>\n",
       "      <td>5598953</td>\n",
       "    </tr>\n",
       "    <tr>\n",
       "      <th>2</th>\n",
       "      <td>456</td>\n",
       "      <td>London</td>\n",
       "      <td>GBR</td>\n",
       "      <td>England</td>\n",
       "      <td>7285000</td>\n",
       "    </tr>\n",
       "    <tr>\n",
       "      <th>3</th>\n",
       "      <td>608</td>\n",
       "      <td>Cairo</td>\n",
       "      <td>EGY</td>\n",
       "      <td>Kairo</td>\n",
       "      <td>6789479</td>\n",
       "    </tr>\n",
       "    <tr>\n",
       "      <th>4</th>\n",
       "      <td>939</td>\n",
       "      <td>Jakarta</td>\n",
       "      <td>IDN</td>\n",
       "      <td>Jakarta Raya</td>\n",
       "      <td>9604900</td>\n",
       "    </tr>\n",
       "    <tr>\n",
       "      <th>5</th>\n",
       "      <td>1024</td>\n",
       "      <td>Mumbai (Bombay)</td>\n",
       "      <td>IND</td>\n",
       "      <td>Maharashtra</td>\n",
       "      <td>10500000</td>\n",
       "    </tr>\n",
       "    <tr>\n",
       "      <th>6</th>\n",
       "      <td>1025</td>\n",
       "      <td>Delhi</td>\n",
       "      <td>IND</td>\n",
       "      <td>Delhi</td>\n",
       "      <td>7206704</td>\n",
       "    </tr>\n",
       "    <tr>\n",
       "      <th>7</th>\n",
       "      <td>1380</td>\n",
       "      <td>Teheran</td>\n",
       "      <td>IRN</td>\n",
       "      <td>Teheran</td>\n",
       "      <td>6758845</td>\n",
       "    </tr>\n",
       "    <tr>\n",
       "      <th>8</th>\n",
       "      <td>1532</td>\n",
       "      <td>Tokyo</td>\n",
       "      <td>JPN</td>\n",
       "      <td>Tokyo-to</td>\n",
       "      <td>7980230</td>\n",
       "    </tr>\n",
       "    <tr>\n",
       "      <th>9</th>\n",
       "      <td>2257</td>\n",
       "      <td>SantafÃ© de BogotÃ¡</td>\n",
       "      <td>COL</td>\n",
       "      <td>SantafÃ© de BogotÃ¡</td>\n",
       "      <td>6260862</td>\n",
       "    </tr>\n",
       "    <tr>\n",
       "      <th>10</th>\n",
       "      <td>2298</td>\n",
       "      <td>Kinshasa</td>\n",
       "      <td>COD</td>\n",
       "      <td>Kinshasa</td>\n",
       "      <td>5064000</td>\n",
       "    </tr>\n",
       "    <tr>\n",
       "      <th>11</th>\n",
       "      <td>2331</td>\n",
       "      <td>Seoul</td>\n",
       "      <td>KOR</td>\n",
       "      <td>Seoul</td>\n",
       "      <td>9981619</td>\n",
       "    </tr>\n",
       "    <tr>\n",
       "      <th>12</th>\n",
       "      <td>2515</td>\n",
       "      <td>Ciudad de MÃ©xico</td>\n",
       "      <td>MEX</td>\n",
       "      <td>Distrito Federal</td>\n",
       "      <td>8591309</td>\n",
       "    </tr>\n",
       "    <tr>\n",
       "      <th>13</th>\n",
       "      <td>2822</td>\n",
       "      <td>Karachi</td>\n",
       "      <td>PAK</td>\n",
       "      <td>Sindh</td>\n",
       "      <td>9269265</td>\n",
       "    </tr>\n",
       "    <tr>\n",
       "      <th>14</th>\n",
       "      <td>2823</td>\n",
       "      <td>Lahore</td>\n",
       "      <td>PAK</td>\n",
       "      <td>Punjab</td>\n",
       "      <td>5063499</td>\n",
       "    </tr>\n",
       "    <tr>\n",
       "      <th>15</th>\n",
       "      <td>2890</td>\n",
       "      <td>Lima</td>\n",
       "      <td>PER</td>\n",
       "      <td>Lima</td>\n",
       "      <td>6464693</td>\n",
       "    </tr>\n",
       "    <tr>\n",
       "      <th>16</th>\n",
       "      <td>3320</td>\n",
       "      <td>Bangkok</td>\n",
       "      <td>THA</td>\n",
       "      <td>Bangkok</td>\n",
       "      <td>6320174</td>\n",
       "    </tr>\n",
       "    <tr>\n",
       "      <th>17</th>\n",
       "      <td>3357</td>\n",
       "      <td>Istanbul</td>\n",
       "      <td>TUR</td>\n",
       "      <td>Istanbul</td>\n",
       "      <td>8787958</td>\n",
       "    </tr>\n",
       "    <tr>\n",
       "      <th>18</th>\n",
       "      <td>3580</td>\n",
       "      <td>Moscow</td>\n",
       "      <td>RUS</td>\n",
       "      <td>Moscow (City)</td>\n",
       "      <td>8389200</td>\n",
       "    </tr>\n",
       "  </tbody>\n",
       "</table>\n",
       "</div>"
      ],
      "text/plain": [
       "      ID                 Name CountryCode             District  Population\n",
       "0    206           SÃ£o Paulo         BRA           SÃ£o Paulo     9968485\n",
       "1    207       Rio de Janeiro         BRA       Rio de Janeiro     5598953\n",
       "2    456               London         GBR              England     7285000\n",
       "3    608                Cairo         EGY                Kairo     6789479\n",
       "4    939              Jakarta         IDN         Jakarta Raya     9604900\n",
       "5   1024      Mumbai (Bombay)         IND          Maharashtra    10500000\n",
       "6   1025                Delhi         IND                Delhi     7206704\n",
       "7   1380              Teheran         IRN              Teheran     6758845\n",
       "8   1532                Tokyo         JPN             Tokyo-to     7980230\n",
       "9   2257  SantafÃ© de BogotÃ¡         COL  SantafÃ© de BogotÃ¡     6260862\n",
       "10  2298             Kinshasa         COD             Kinshasa     5064000\n",
       "11  2331                Seoul         KOR                Seoul     9981619\n",
       "12  2515    Ciudad de MÃ©xico         MEX     Distrito Federal     8591309\n",
       "13  2822              Karachi         PAK                Sindh     9269265\n",
       "14  2823               Lahore         PAK               Punjab     5063499\n",
       "15  2890                 Lima         PER                 Lima     6464693\n",
       "16  3320              Bangkok         THA              Bangkok     6320174\n",
       "17  3357             Istanbul         TUR             Istanbul     8787958\n",
       "18  3580               Moscow         RUS        Moscow (City)     8389200"
      ]
     },
     "metadata": {},
     "execution_count": 29
    }
   ],
   "metadata": {}
  },
  {
   "cell_type": "markdown",
   "source": [
    "You can filter with math operators too!"
   ],
   "metadata": {}
  },
  {
   "cell_type": "markdown",
   "source": [
    "### Summary\r\n",
    "\r\n",
    "Summary\r\n",
    "In the WHERE statement, we can the combinations of NOT, IN, <>, !=, >=, >, <, <=, AND, OR, () and even some of math operators (such as %, *, /, +, -)to retrieve the data we want easily and efficiently."
   ],
   "metadata": {}
  },
  {
   "cell_type": "markdown",
   "source": [
    "# References\r\n",
    "- [Chonghua Yin notebook](https://github.com/royalosyin/Practice-SQL-with-SQLite-and-Jupyter-Notebook/blob/master/ex05-Filtering%20a%20Query%20with%20WHERE.ipynb)"
   ],
   "metadata": {}
  }
 ],
 "metadata": {
  "orig_nbformat": 4,
  "language_info": {
   "name": "python",
   "version": "3.9.5",
   "mimetype": "text/x-python",
   "codemirror_mode": {
    "name": "ipython",
    "version": 3
   },
   "pygments_lexer": "ipython3",
   "nbconvert_exporter": "python",
   "file_extension": ".py"
  },
  "kernelspec": {
   "name": "python3",
   "display_name": "Python 3.9.5 64-bit"
  },
  "interpreter": {
   "hash": "af08a664c9379a2eef6a59a35895b3c7b95bf968efc61f7032ca2d38064b34f9"
  }
 },
 "nbformat": 4,
 "nbformat_minor": 2
}