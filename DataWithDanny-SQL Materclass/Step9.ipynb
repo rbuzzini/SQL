{
 "cells": [
  {
   "cell_type": "markdown",
   "metadata": {},
   "source": [
    "# Step 9 - Buy and Hold Analysis"
   ]
  },
  {
   "cell_type": "markdown",
   "metadata": {},
   "source": [
    "Meet Leah - she is our mentor who will take the buy and hold strategy otherwise known as the \"HODL strategy\" or hold on for dear life!\n",
    "\n",
    "She is risk averse and just wants to leave her initial investment alone because she believes her original holdings will grow over time with low risk."
   ]
  },
  {
   "cell_type": "markdown",
   "metadata": {},
   "source": [
    "## Leah's Transaction History\n",
    "1. She purchases 50 BTC and 50 ETH on Jan 1st 2017\n",
    "2. She holds onto all of her portfolio and does not sell anything (HODL)\n",
    "3. She also does not purchase any additional quantity of either crypto\n",
    "4. By August 29th 2021 (the last date of our price data) - we can assess her individual performance\n",
    "\n",
    "Remember that we are simplifying our problem at the moment so Leah's records will actually be different in the final `trading.transactions` dataset!"
   ]
  },
  {
   "cell_type": "code",
   "execution_count": 1,
   "metadata": {},
   "outputs": [],
   "source": [
    "import pandas as pd\n",
    "import os\n",
    "import sqlalchemy"
   ]
  },
  {
   "cell_type": "code",
   "execution_count": 2,
   "metadata": {},
   "outputs": [],
   "source": [
    "host = os.environ.get('mysql_host')\n",
    "user = os.environ.get('mysql_user')\n",
    "password = os.environ.get('mysql_password')\n",
    "engine = sqlalchemy.create_engine(f'mysql+pymysql://{user}:{password}@{host}/trading')"
   ]
  },
  {
   "cell_type": "markdown",
   "metadata": {},
   "source": [
    "## The Data\n",
    "\n",
    "For this simplified scenario - we first need to create a new temp table called `leah_hodl_strategy` using the code below (i won't create a temp table, I'll use with clause):"
   ]
  },
  {
   "cell_type": "code",
   "execution_count": 3,
   "metadata": {},
   "outputs": [
    {
     "data": {
      "text/html": [
       "<div>\n",
       "<style scoped>\n",
       "    .dataframe tbody tr th:only-of-type {\n",
       "        vertical-align: middle;\n",
       "    }\n",
       "\n",
       "    .dataframe tbody tr th {\n",
       "        vertical-align: top;\n",
       "    }\n",
       "\n",
       "    .dataframe thead th {\n",
       "        text-align: right;\n",
       "    }\n",
       "</style>\n",
       "<table border=\"1\" class=\"dataframe\">\n",
       "  <thead>\n",
       "    <tr style=\"text-align: right;\">\n",
       "      <th></th>\n",
       "      <th>txn_id</th>\n",
       "      <th>member_id</th>\n",
       "      <th>ticker</th>\n",
       "      <th>txn_date</th>\n",
       "      <th>txn_time</th>\n",
       "      <th>txn_type</th>\n",
       "      <th>quantity</th>\n",
       "      <th>percentage_fee</th>\n",
       "    </tr>\n",
       "  </thead>\n",
       "  <tbody>\n",
       "    <tr>\n",
       "      <th>0</th>\n",
       "      <td>12</td>\n",
       "      <td>c20ad4</td>\n",
       "      <td>BTC</td>\n",
       "      <td>2017-01-01</td>\n",
       "      <td>2017-01-01</td>\n",
       "      <td>BUY</td>\n",
       "      <td>50.0</td>\n",
       "      <td>0.3</td>\n",
       "    </tr>\n",
       "    <tr>\n",
       "      <th>1</th>\n",
       "      <td>26</td>\n",
       "      <td>c20ad4</td>\n",
       "      <td>ETH</td>\n",
       "      <td>2017-01-01</td>\n",
       "      <td>2017-01-01</td>\n",
       "      <td>BUY</td>\n",
       "      <td>50.0</td>\n",
       "      <td>0.3</td>\n",
       "    </tr>\n",
       "  </tbody>\n",
       "</table>\n",
       "</div>"
      ],
      "text/plain": [
       "   txn_id member_id ticker    txn_date   txn_time txn_type  quantity  \\\n",
       "0      12    c20ad4    BTC  2017-01-01 2017-01-01      BUY      50.0   \n",
       "1      26    c20ad4    ETH  2017-01-01 2017-01-01      BUY      50.0   \n",
       "\n",
       "   percentage_fee  \n",
       "0             0.3  \n",
       "1             0.3  "
      ]
     },
     "execution_count": 3,
     "metadata": {},
     "output_type": "execute_result"
    }
   ],
   "source": [
    "pd.read_sql_query(\n",
    "    \"\"\"\n",
    "    SELECT * FROM trading.transactions\n",
    "    WHERE member_id = 'c20ad4'\n",
    "      AND txn_date = '2017-01-01'\n",
    "      AND quantity = 50;\n",
    "    \"\"\",\n",
    "    engine\n",
    ")"
   ]
  },
  {
   "cell_type": "markdown",
   "metadata": {},
   "source": [
    "## Required Metrics\n",
    "For this basic scenario - we wish to calculate the following metrics:\n",
    "\n",
    "1. The initial value of her original 50 BTC and 50 ETH purchases\n",
    "2. The dollar amount of fees she paid for those 2 transactions\n",
    "3. The final value of her portfolio on August 29th 2021\n",
    "4. The profitability by dividing her final value by initial value\n",
    "\n",
    "## Solutions\n",
    "\n",
    "**Question 1 & 2**\n",
    "\n",
    "We can calculate the first 2 questions using a single query\n",
    "\n",
    "The initial value of her original 50 BTC and 50 ETH purchases\n",
    "The dollar amount of fees she paid for those 2 transactions"
   ]
  },
  {
   "cell_type": "code",
   "execution_count": 5,
   "metadata": {},
   "outputs": [
    {
     "data": {
      "text/html": [
       "<div>\n",
       "<style scoped>\n",
       "    .dataframe tbody tr th:only-of-type {\n",
       "        vertical-align: middle;\n",
       "    }\n",
       "\n",
       "    .dataframe tbody tr th {\n",
       "        vertical-align: top;\n",
       "    }\n",
       "\n",
       "    .dataframe thead th {\n",
       "        text-align: right;\n",
       "    }\n",
       "</style>\n",
       "<table border=\"1\" class=\"dataframe\">\n",
       "  <thead>\n",
       "    <tr style=\"text-align: right;\">\n",
       "      <th></th>\n",
       "      <th>initial_value</th>\n",
       "      <th>fees</th>\n",
       "    </tr>\n",
       "  </thead>\n",
       "  <tbody>\n",
       "    <tr>\n",
       "      <th>0</th>\n",
       "      <td>50180.0</td>\n",
       "      <td>150.54</td>\n",
       "    </tr>\n",
       "  </tbody>\n",
       "</table>\n",
       "</div>"
      ],
      "text/plain": [
       "   initial_value    fees\n",
       "0        50180.0  150.54"
      ]
     },
     "execution_count": 5,
     "metadata": {},
     "output_type": "execute_result"
    }
   ],
   "source": [
    "pd.read_sql_query(\n",
    "    \"\"\"\n",
    "    WITH leah_hodl_strategy AS (\n",
    "    SELECT * FROM trading.transactions\n",
    "    WHERE member_id = 'c20ad4'\n",
    "      AND txn_date = '2017-01-01'\n",
    "      AND quantity = 50)\n",
    "    \n",
    "    SELECT\n",
    "      ROUND(SUM(transactions.quantity * prices.price), 2) AS initial_value,\n",
    "      ROUND(SUM(transactions.quantity * prices.price * transactions.percentage_fee / 100), 2) AS fees\n",
    "    FROM leah_hodl_strategy AS transactions\n",
    "    INNER JOIN trading.prices\n",
    "      ON transactions.ticker = prices.ticker\n",
    "      AND transactions.txn_date = prices.market_date;\n",
    "    \"\"\",\n",
    "    engine\n",
    ")"
   ]
  },
  {
   "cell_type": "markdown",
   "metadata": {},
   "source": [
    "**Question 3**\n",
    "\n",
    "The final value of her portfolio on August 29th 2021"
   ]
  },
  {
   "cell_type": "code",
   "execution_count": 6,
   "metadata": {},
   "outputs": [
    {
     "data": {
      "text/html": [
       "<div>\n",
       "<style scoped>\n",
       "    .dataframe tbody tr th:only-of-type {\n",
       "        vertical-align: middle;\n",
       "    }\n",
       "\n",
       "    .dataframe tbody tr th {\n",
       "        vertical-align: top;\n",
       "    }\n",
       "\n",
       "    .dataframe thead th {\n",
       "        text-align: right;\n",
       "    }\n",
       "</style>\n",
       "<table border=\"1\" class=\"dataframe\">\n",
       "  <thead>\n",
       "    <tr style=\"text-align: right;\">\n",
       "      <th></th>\n",
       "      <th>final_value</th>\n",
       "    </tr>\n",
       "  </thead>\n",
       "  <tbody>\n",
       "    <tr>\n",
       "      <th>0</th>\n",
       "      <td>2.571642e+06</td>\n",
       "    </tr>\n",
       "  </tbody>\n",
       "</table>\n",
       "</div>"
      ],
      "text/plain": [
       "    final_value\n",
       "0  2.571642e+06"
      ]
     },
     "execution_count": 6,
     "metadata": {},
     "output_type": "execute_result"
    }
   ],
   "source": [
    "pd.read_sql_query(\n",
    "    \"\"\"\n",
    "    WITH leah_hodl_strategy AS (\n",
    "    SELECT * FROM trading.transactions\n",
    "    WHERE member_id = 'c20ad4'\n",
    "      AND txn_date = '2017-01-01'\n",
    "      AND quantity = 50)\n",
    "    \n",
    "    SELECT\n",
    "      SUM(transactions.quantity * prices.price) AS final_value\n",
    "      FROM leah_hodl_strategy AS transactions\n",
    "    INNER JOIN trading.prices\n",
    "      ON transactions.ticker = prices.ticker\n",
    "    WHERE prices.market_date = '2021-08-29';\n",
    "    \"\"\",\n",
    "    engine\n",
    ")"
   ]
  },
  {
   "cell_type": "markdown",
   "metadata": {},
   "source": [
    "**Question 4**\n",
    "\n",
    "Calculate the profitability by dividing Leah's final value by initial value\n",
    "\n",
    "We can actually do one better and combine all 4 metrics into a single query!"
   ]
  },
  {
   "cell_type": "code",
   "execution_count": 8,
   "metadata": {},
   "outputs": [
    {
     "data": {
      "text/html": [
       "<div>\n",
       "<style scoped>\n",
       "    .dataframe tbody tr th:only-of-type {\n",
       "        vertical-align: middle;\n",
       "    }\n",
       "\n",
       "    .dataframe tbody tr th {\n",
       "        vertical-align: top;\n",
       "    }\n",
       "\n",
       "    .dataframe thead th {\n",
       "        text-align: right;\n",
       "    }\n",
       "</style>\n",
       "<table border=\"1\" class=\"dataframe\">\n",
       "  <thead>\n",
       "    <tr style=\"text-align: right;\">\n",
       "      <th></th>\n",
       "      <th>initial_value</th>\n",
       "      <th>fees</th>\n",
       "      <th>final_value</th>\n",
       "      <th>profitability</th>\n",
       "    </tr>\n",
       "  </thead>\n",
       "  <tbody>\n",
       "    <tr>\n",
       "      <th>0</th>\n",
       "      <td>50180.0</td>\n",
       "      <td>150.54</td>\n",
       "      <td>2571642.0</td>\n",
       "      <td>51.248346</td>\n",
       "    </tr>\n",
       "  </tbody>\n",
       "</table>\n",
       "</div>"
      ],
      "text/plain": [
       "   initial_value    fees  final_value  profitability\n",
       "0        50180.0  150.54    2571642.0      51.248346"
      ]
     },
     "execution_count": 8,
     "metadata": {},
     "output_type": "execute_result"
    }
   ],
   "source": [
    "pd.read_sql_query(\n",
    "    \"\"\"\n",
    "    WITH leah_hodl_strategy AS (\n",
    "    SELECT * FROM trading.transactions\n",
    "    WHERE member_id = 'c20ad4'\n",
    "      AND txn_date = '2017-01-01'\n",
    "      AND quantity = 50),\n",
    "    \n",
    "    cte_portfolio_values AS (\n",
    "      SELECT\n",
    "      -- initial metrics\n",
    "        ROUND(SUM(transactions.quantity * initial.price), 2) AS initial_value,\n",
    "        ROUND(SUM(transactions.quantity * initial.price * transactions.percentage_fee / 100), 2) AS fees,\n",
    "      -- final value\n",
    "       ROUND(SUM(transactions.quantity * final.price), 2) AS final_value\n",
    "      FROM leah_hodl_strategy AS transactions\n",
    "      INNER JOIN trading.prices AS initial\n",
    "        ON transactions.ticker = initial.ticker\n",
    "        AND transactions.txn_date = initial.market_date\n",
    "      INNER JOIN trading.prices AS final\n",
    "        ON transactions.ticker = final.ticker\n",
    "      WHERE final.market_date = '2021-08-29'\n",
    ")\n",
    "\n",
    "SELECT\n",
    "  initial_value,\n",
    "  fees,\n",
    "  final_value,\n",
    "  final_value / initial_value AS profitability\n",
    "FROM cte_portfolio_values;\n",
    "    \"\"\",\n",
    "    engine\n",
    ")"
   ]
  },
  {
   "cell_type": "markdown",
   "metadata": {},
   "source": [
    "# References\n",
    "\n",
    "- [Data With Danny Course - Step 9](https://github.com/DataWithDanny/sql-masterclass/blob/main/course-content/step9.md)"
   ]
  }
 ],
 "metadata": {
  "interpreter": {
   "hash": "af08a664c9379a2eef6a59a35895b3c7b95bf968efc61f7032ca2d38064b34f9"
  },
  "kernelspec": {
   "display_name": "Python 3.9.5 64-bit",
   "language": "python",
   "name": "python3"
  },
  "language_info": {
   "codemirror_mode": {
    "name": "ipython",
    "version": 3
   },
   "file_extension": ".py",
   "mimetype": "text/x-python",
   "name": "python",
   "nbconvert_exporter": "python",
   "pygments_lexer": "ipython3",
   "version": "3.9.5"
  },
  "orig_nbformat": 4
 },
 "nbformat": 4,
 "nbformat_minor": 2
}
