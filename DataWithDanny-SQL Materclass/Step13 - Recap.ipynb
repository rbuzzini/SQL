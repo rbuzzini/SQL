{
 "cells": [
  {
   "cell_type": "markdown",
   "metadata": {},
   "source": [
    "# SQL Masterclass Summary\n",
    "\n",
    "Here are some of the topics which you covered in this short but sweet SQL Masterclass course:\n",
    "\n",
    "**Step 2: Inspecting the trading.members table**\n",
    "- Selecting rows and columns from database tables with SELECT\n",
    "- Use LIMIT to only return a set number of rows from a query\n",
    "- Counting the number of records using COUNT(*)\n",
    "- Counting the number of unique column and table records using `COUNT(DISTINCT)\n",
    "- Filtering data using a WHERE filter\n",
    "- Selecting DATE ranges using BETWEEN, >, >=, <, <=\n",
    "- Using the IN and NOT IN filter conditions to remove and keep records\n",
    "- Use CASE WHEN to apply simple if-else logic to an existing column\n",
    "\n",
    "**Step 3: Analyzing daily BTC and ETH prices in the trading.prices table**\n",
    "- Finding the MIN and MAX dates\n",
    "- Use GROUP BY to aggregate data at different levels for analysis\n",
    "- Extracting information from dates using DATE_TRUNC and EXTRACT\n",
    "- Using DATE_TRUNC to obtain the begining date of month for a DATE\n",
    "- Using AVG to find the average price\n",
    "- Casting float data types to an exact NUMERIC to use with the ROUND function\n",
    "- Using AND conditions to apply multiple logical rules for WHERE filters\n",
    "- Using SUM CASE WHEN to aggregate logical values similar to a COUNTIF in Excel\n",
    "- Casting INTEGER data types to a NUMERIC to avoid integer floor division errors\n",
    "\n",
    "**Step 4: View all transaction histories in the trading.transactions table**\n",
    "- More advanced usage of SUM CASE WHEN to replicate SUMIF functionality in Excel\n",
    "- How to filter records from a GROUP BY result using the HAVING clause\n",
    "- Using CTEs and subqueries to perform the same filtering of results\n",
    "- Use a RANK window function to perform custom ordering for a results set\n",
    "\n",
    "**Step 5: Starting data analysis**\n",
    "- Interpreting entity relationship diagrams (ERDs) to visualize table joins\n",
    "- Analyzing ranges of data to make sure the analysis periods are aligned\n",
    "- Perform an INNER JOIN to combine datasets to select columns from both tables\n",
    "- Combining CTEs and joins for step-wise queries\n",
    "- Combining multiple aggregation functions to generate larger table outputs\n",
    "\n",
    "**Steps 6-7: Planning ahead and using base tables for data analysis**\n",
    "- Drop and create a temporary table to re-use in future SQL queries\n",
    "- Add time INTERVAL to a date\n",
    "- Use ALTER and UPDATE statements to manipulate an existing temporary table\n",
    "- Use a custom WINDOW FRAME clause to specify a sliding window for cumulative metrics\n",
    "- Use a SUM window function to calculate a denominator value for percentage calculations\n",
    "- Use MAX CASE WHEN to pivot data from long to wide\n",
    "\n",
    "**Steps 8-12: Final Case Study Scenarios**\n",
    "- Creating simplified data scenarios to better understand each question\n",
    "- Implementing a SUM PRODUCT aggregation to calculate initial investments\n",
    "- Performing multiple joins to the same tables with different joining conditions\n",
    "- Multiplying many columns to generate fees based off percentages\n",
    "- Calculating hypothetical scenarios and implementing complex logic using SQL\n",
    "- Creating a complete CTE workflow to generate a reporting dataset\n",
    "- Aggregating data at multiple levels to generate multiple insights"
   ]
  },
  {
   "cell_type": "markdown",
   "metadata": {},
   "source": [
    "# References\n",
    "\n",
    "- [Data With Danny Course - Step 13](https://github.com/DataWithDanny/sql-masterclass/blob/main/course-content/step13.md)"
   ]
  }
 ],
 "metadata": {
  "interpreter": {
   "hash": "af08a664c9379a2eef6a59a35895b3c7b95bf968efc61f7032ca2d38064b34f9"
  },
  "kernelspec": {
   "display_name": "Python 3.9.5 64-bit",
   "language": "python",
   "name": "python3"
  },
  "language_info": {
   "name": "python",
   "version": "3.9.5"
  },
  "orig_nbformat": 4
 },
 "nbformat": 4,
 "nbformat_minor": 2
}
