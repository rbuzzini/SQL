{
 "cells": [
  {
   "cell_type": "markdown",
   "source": [
    "# Step 3 - Daily Prices\r\n",
    "\r\n",
    "Our next dataset to explore will be the `trading.prices` table which contains the daily price and volume data for the 2 cryptocurrency tickers: `ETH` and `BTC` (Ethereum and Bitcoin!)\r\n",
    "\r\n",
    "## View The Data\r\n",
    "Before we try to solve our next set of questions below - you can try viewing a few rows from the trading.prices dataset:"
   ],
   "metadata": {}
  },
  {
   "cell_type": "code",
   "execution_count": 1,
   "source": [
    "import pandas as pd\r\n",
    "import mysql.connector as sql\r\n",
    "import os"
   ],
   "outputs": [],
   "metadata": {}
  },
  {
   "cell_type": "code",
   "execution_count": 2,
   "source": [
    "connection = sql.connect(\r\n",
    "    host = os.environ.get('mysql_host'),\r\n",
    "    user = os.environ.get('mysql_user'),\r\n",
    "    password = os.environ.get('mysql_password')\r\n",
    ")"
   ],
   "outputs": [],
   "metadata": {}
  },
  {
   "cell_type": "markdown",
   "source": [
    "Example Bitcoin price data:"
   ],
   "metadata": {}
  },
  {
   "cell_type": "code",
   "execution_count": 3,
   "source": [
    "pd.read_sql_query(\r\n",
    "    \"\"\"\r\n",
    "    SELECT *\r\n",
    "    FROM trading.prices\r\n",
    "    WHERE ticker = 'BTC'\r\n",
    "    LIMIT 5;\r\n",
    "    \"\"\",\r\n",
    "    connection\r\n",
    ")"
   ],
   "outputs": [
    {
     "output_type": "execute_result",
     "data": {
      "text/html": [
       "<div>\n",
       "<style scoped>\n",
       "    .dataframe tbody tr th:only-of-type {\n",
       "        vertical-align: middle;\n",
       "    }\n",
       "\n",
       "    .dataframe tbody tr th {\n",
       "        vertical-align: top;\n",
       "    }\n",
       "\n",
       "    .dataframe thead th {\n",
       "        text-align: right;\n",
       "    }\n",
       "</style>\n",
       "<table border=\"1\" class=\"dataframe\">\n",
       "  <thead>\n",
       "    <tr style=\"text-align: right;\">\n",
       "      <th></th>\n",
       "      <th>ticker</th>\n",
       "      <th>market_date</th>\n",
       "      <th>price</th>\n",
       "      <th>open</th>\n",
       "      <th>high</th>\n",
       "      <th>low</th>\n",
       "      <th>volume</th>\n",
       "      <th>change</th>\n",
       "    </tr>\n",
       "  </thead>\n",
       "  <tbody>\n",
       "    <tr>\n",
       "      <th>0</th>\n",
       "      <td>BTC</td>\n",
       "      <td>2021-08-29</td>\n",
       "      <td>48255.0</td>\n",
       "      <td>48899.7</td>\n",
       "      <td>49621.7</td>\n",
       "      <td>48101.9</td>\n",
       "      <td>40.96K</td>\n",
       "      <td>-1.31%</td>\n",
       "    </tr>\n",
       "    <tr>\n",
       "      <th>1</th>\n",
       "      <td>BTC</td>\n",
       "      <td>2021-08-28</td>\n",
       "      <td>48897.1</td>\n",
       "      <td>49062.8</td>\n",
       "      <td>49289.4</td>\n",
       "      <td>48428.5</td>\n",
       "      <td>36.73K</td>\n",
       "      <td>-0.34%</td>\n",
       "    </tr>\n",
       "    <tr>\n",
       "      <th>2</th>\n",
       "      <td>BTC</td>\n",
       "      <td>2021-08-27</td>\n",
       "      <td>49064.3</td>\n",
       "      <td>46830.2</td>\n",
       "      <td>49142.0</td>\n",
       "      <td>46371.5</td>\n",
       "      <td>62.47K</td>\n",
       "      <td>4.77%</td>\n",
       "    </tr>\n",
       "    <tr>\n",
       "      <th>3</th>\n",
       "      <td>BTC</td>\n",
       "      <td>2021-08-26</td>\n",
       "      <td>46831.6</td>\n",
       "      <td>48994.4</td>\n",
       "      <td>49347.8</td>\n",
       "      <td>46360.4</td>\n",
       "      <td>73.79K</td>\n",
       "      <td>-4.41%</td>\n",
       "    </tr>\n",
       "    <tr>\n",
       "      <th>4</th>\n",
       "      <td>BTC</td>\n",
       "      <td>2021-08-25</td>\n",
       "      <td>48994.5</td>\n",
       "      <td>47707.4</td>\n",
       "      <td>49230.2</td>\n",
       "      <td>47163.3</td>\n",
       "      <td>63.54K</td>\n",
       "      <td>2.68%</td>\n",
       "    </tr>\n",
       "  </tbody>\n",
       "</table>\n",
       "</div>"
      ],
      "text/plain": [
       "  ticker market_date    price     open     high      low  volume  change\n",
       "0    BTC  2021-08-29  48255.0  48899.7  49621.7  48101.9  40.96K  -1.31%\n",
       "1    BTC  2021-08-28  48897.1  49062.8  49289.4  48428.5  36.73K  -0.34%\n",
       "2    BTC  2021-08-27  49064.3  46830.2  49142.0  46371.5  62.47K   4.77%\n",
       "3    BTC  2021-08-26  46831.6  48994.4  49347.8  46360.4  73.79K  -4.41%\n",
       "4    BTC  2021-08-25  48994.5  47707.4  49230.2  47163.3  63.54K   2.68%"
      ]
     },
     "metadata": {},
     "execution_count": 3
    }
   ],
   "metadata": {}
  },
  {
   "cell_type": "markdown",
   "source": [
    "Example Ethereum price data:"
   ],
   "metadata": {}
  },
  {
   "cell_type": "code",
   "execution_count": 5,
   "source": [
    "pd.read_sql_query(\r\n",
    "    \"\"\"\r\n",
    "    SELECT *\r\n",
    "    FROM trading.prices\r\n",
    "    WHERE ticker = 'ETH'\r\n",
    "    LIMIT 5;\r\n",
    "    \"\"\",\r\n",
    "    connection\r\n",
    ")"
   ],
   "outputs": [
    {
     "output_type": "execute_result",
     "data": {
      "text/html": [
       "<div>\n",
       "<style scoped>\n",
       "    .dataframe tbody tr th:only-of-type {\n",
       "        vertical-align: middle;\n",
       "    }\n",
       "\n",
       "    .dataframe tbody tr th {\n",
       "        vertical-align: top;\n",
       "    }\n",
       "\n",
       "    .dataframe thead th {\n",
       "        text-align: right;\n",
       "    }\n",
       "</style>\n",
       "<table border=\"1\" class=\"dataframe\">\n",
       "  <thead>\n",
       "    <tr style=\"text-align: right;\">\n",
       "      <th></th>\n",
       "      <th>ticker</th>\n",
       "      <th>market_date</th>\n",
       "      <th>price</th>\n",
       "      <th>open</th>\n",
       "      <th>high</th>\n",
       "      <th>low</th>\n",
       "      <th>volume</th>\n",
       "      <th>change</th>\n",
       "    </tr>\n",
       "  </thead>\n",
       "  <tbody>\n",
       "    <tr>\n",
       "      <th>0</th>\n",
       "      <td>ETH</td>\n",
       "      <td>2021-08-29</td>\n",
       "      <td>3177.84</td>\n",
       "      <td>3243.96</td>\n",
       "      <td>3282.21</td>\n",
       "      <td>3162.79</td>\n",
       "      <td>582.04K</td>\n",
       "      <td>-2.04%</td>\n",
       "    </tr>\n",
       "    <tr>\n",
       "      <th>1</th>\n",
       "      <td>ETH</td>\n",
       "      <td>2021-08-28</td>\n",
       "      <td>3243.90</td>\n",
       "      <td>3273.78</td>\n",
       "      <td>3284.58</td>\n",
       "      <td>3212.24</td>\n",
       "      <td>466.21K</td>\n",
       "      <td>-0.91%</td>\n",
       "    </tr>\n",
       "    <tr>\n",
       "      <th>2</th>\n",
       "      <td>ETH</td>\n",
       "      <td>2021-08-27</td>\n",
       "      <td>3273.58</td>\n",
       "      <td>3093.78</td>\n",
       "      <td>3279.93</td>\n",
       "      <td>3063.37</td>\n",
       "      <td>839.54K</td>\n",
       "      <td>5.82%</td>\n",
       "    </tr>\n",
       "    <tr>\n",
       "      <th>3</th>\n",
       "      <td>ETH</td>\n",
       "      <td>2021-08-26</td>\n",
       "      <td>3093.54</td>\n",
       "      <td>3228.03</td>\n",
       "      <td>3249.62</td>\n",
       "      <td>3057.48</td>\n",
       "      <td>118.44K</td>\n",
       "      <td>-4.17%</td>\n",
       "    </tr>\n",
       "    <tr>\n",
       "      <th>4</th>\n",
       "      <td>ETH</td>\n",
       "      <td>2021-08-25</td>\n",
       "      <td>3228.15</td>\n",
       "      <td>3172.12</td>\n",
       "      <td>3247.43</td>\n",
       "      <td>3080.70</td>\n",
       "      <td>923.13K</td>\n",
       "      <td>1.73%</td>\n",
       "    </tr>\n",
       "  </tbody>\n",
       "</table>\n",
       "</div>"
      ],
      "text/plain": [
       "  ticker market_date    price     open     high      low   volume  change\n",
       "0    ETH  2021-08-29  3177.84  3243.96  3282.21  3162.79  582.04K  -2.04%\n",
       "1    ETH  2021-08-28  3243.90  3273.78  3284.58  3212.24  466.21K  -0.91%\n",
       "2    ETH  2021-08-27  3273.58  3093.78  3279.93  3063.37  839.54K   5.82%\n",
       "3    ETH  2021-08-26  3093.54  3228.03  3249.62  3057.48  118.44K  -4.17%\n",
       "4    ETH  2021-08-25  3228.15  3172.12  3247.43  3080.70  923.13K   1.73%"
      ]
     },
     "metadata": {},
     "execution_count": 5
    }
   ],
   "metadata": {}
  },
  {
   "cell_type": "markdown",
   "source": [
    "## Data Dictionary\r\n",
    "|Column Name|\tDescription|\r\n",
    "|---|---|\r\n",
    "|ticker\t|one of either BTC or ETH|\r\n",
    "|market_date|\tthe date for each record|\r\n",
    "|price\t|closing price at end of day|\r\n",
    "|open|\tthe opening price|\r\n",
    "|high|\tthe highest price for that day|\r\n",
    "|low|\tthe lowest price for that day|\r\n",
    "|volume\t|the total volume traded|\r\n",
    "|change\t|% change price in price|"
   ],
   "metadata": {}
  },
  {
   "cell_type": "markdown",
   "source": [
    "## Data Exploration Questions\r\n",
    "Let's answer a few simple questions to help us better understand the `trading.prices` table."
   ],
   "metadata": {}
  },
  {
   "cell_type": "markdown",
   "source": [
    "## Question 1\r\n",
    "How many total records do we have in the `trading.prices` table?"
   ],
   "metadata": {}
  },
  {
   "cell_type": "code",
   "execution_count": 7,
   "source": [
    "pd.read_sql_query(\r\n",
    "    \"\"\"\r\n",
    "    SELECT\r\n",
    "        COUNT(*) AS records_count\r\n",
    "    FROM trading.prices;\r\n",
    "    \"\"\",\r\n",
    "    connection\r\n",
    ")"
   ],
   "outputs": [
    {
     "output_type": "execute_result",
     "data": {
      "text/html": [
       "<div>\n",
       "<style scoped>\n",
       "    .dataframe tbody tr th:only-of-type {\n",
       "        vertical-align: middle;\n",
       "    }\n",
       "\n",
       "    .dataframe tbody tr th {\n",
       "        vertical-align: top;\n",
       "    }\n",
       "\n",
       "    .dataframe thead th {\n",
       "        text-align: right;\n",
       "    }\n",
       "</style>\n",
       "<table border=\"1\" class=\"dataframe\">\n",
       "  <thead>\n",
       "    <tr style=\"text-align: right;\">\n",
       "      <th></th>\n",
       "      <th>records_count</th>\n",
       "    </tr>\n",
       "  </thead>\n",
       "  <tbody>\n",
       "    <tr>\n",
       "      <th>0</th>\n",
       "      <td>3404</td>\n",
       "    </tr>\n",
       "  </tbody>\n",
       "</table>\n",
       "</div>"
      ],
      "text/plain": [
       "   records_count\n",
       "0           3404"
      ]
     },
     "metadata": {},
     "execution_count": 7
    }
   ],
   "metadata": {}
  },
  {
   "cell_type": "markdown",
   "source": [
    "## Question 2\r\n",
    "How many records are there per `ticker` value?"
   ],
   "metadata": {}
  },
  {
   "cell_type": "code",
   "execution_count": 9,
   "source": [
    "pd.read_sql_query(\r\n",
    "    \"\"\"\r\n",
    "    SELECT\r\n",
    "        ticker,\r\n",
    "        COUNT(*) AS ticker_count\r\n",
    "    FROM trading.prices\r\n",
    "    GROUP BY ticker;\r\n",
    "    \"\"\",\r\n",
    "    connection\r\n",
    ")"
   ],
   "outputs": [
    {
     "output_type": "execute_result",
     "data": {
      "text/html": [
       "<div>\n",
       "<style scoped>\n",
       "    .dataframe tbody tr th:only-of-type {\n",
       "        vertical-align: middle;\n",
       "    }\n",
       "\n",
       "    .dataframe tbody tr th {\n",
       "        vertical-align: top;\n",
       "    }\n",
       "\n",
       "    .dataframe thead th {\n",
       "        text-align: right;\n",
       "    }\n",
       "</style>\n",
       "<table border=\"1\" class=\"dataframe\">\n",
       "  <thead>\n",
       "    <tr style=\"text-align: right;\">\n",
       "      <th></th>\n",
       "      <th>ticker</th>\n",
       "      <th>ticker_count</th>\n",
       "    </tr>\n",
       "  </thead>\n",
       "  <tbody>\n",
       "    <tr>\n",
       "      <th>0</th>\n",
       "      <td>ETH</td>\n",
       "      <td>1702</td>\n",
       "    </tr>\n",
       "    <tr>\n",
       "      <th>1</th>\n",
       "      <td>BTC</td>\n",
       "      <td>1702</td>\n",
       "    </tr>\n",
       "  </tbody>\n",
       "</table>\n",
       "</div>"
      ],
      "text/plain": [
       "  ticker  ticker_count\n",
       "0    ETH          1702\n",
       "1    BTC          1702"
      ]
     },
     "metadata": {},
     "execution_count": 9
    }
   ],
   "metadata": {}
  },
  {
   "cell_type": "markdown",
   "source": [
    "## Question 3\r\n",
    "What is the minimum and maximum `market_date` values?"
   ],
   "metadata": {}
  },
  {
   "cell_type": "code",
   "execution_count": 11,
   "source": [
    "pd.read_sql_query(\r\n",
    "    \"\"\"\r\n",
    "    SELECT\r\n",
    "        MIN(market_date) AS date_min,\r\n",
    "        MAX(market_date) AS date_max\r\n",
    "    FROM trading.prices;\r\n",
    "    \"\"\",\r\n",
    "    connection\r\n",
    ")"
   ],
   "outputs": [
    {
     "output_type": "execute_result",
     "data": {
      "text/html": [
       "<div>\n",
       "<style scoped>\n",
       "    .dataframe tbody tr th:only-of-type {\n",
       "        vertical-align: middle;\n",
       "    }\n",
       "\n",
       "    .dataframe tbody tr th {\n",
       "        vertical-align: top;\n",
       "    }\n",
       "\n",
       "    .dataframe thead th {\n",
       "        text-align: right;\n",
       "    }\n",
       "</style>\n",
       "<table border=\"1\" class=\"dataframe\">\n",
       "  <thead>\n",
       "    <tr style=\"text-align: right;\">\n",
       "      <th></th>\n",
       "      <th>date_min</th>\n",
       "      <th>date_max</th>\n",
       "    </tr>\n",
       "  </thead>\n",
       "  <tbody>\n",
       "    <tr>\n",
       "      <th>0</th>\n",
       "      <td>2017-01-01</td>\n",
       "      <td>2021-08-29</td>\n",
       "    </tr>\n",
       "  </tbody>\n",
       "</table>\n",
       "</div>"
      ],
      "text/plain": [
       "     date_min    date_max\n",
       "0  2017-01-01  2021-08-29"
      ]
     },
     "metadata": {},
     "execution_count": 11
    }
   ],
   "metadata": {}
  },
  {
   "cell_type": "markdown",
   "source": [
    "## Question 4\r\n",
    "Are there differences in the minimum and maximum `market_date` values for each ticker?"
   ],
   "metadata": {}
  },
  {
   "cell_type": "code",
   "execution_count": 12,
   "source": [
    "pd.read_sql_query(\r\n",
    "    \"\"\"\r\n",
    "    SELECT\r\n",
    "        ticker,\r\n",
    "        MIN(market_date) AS date_min,\r\n",
    "        MAX(market_date) AS date_max\r\n",
    "    FROM trading.prices\r\n",
    "    GROUP BY ticker;\r\n",
    "    \"\"\",\r\n",
    "    connection\r\n",
    ")"
   ],
   "outputs": [
    {
     "output_type": "execute_result",
     "data": {
      "text/html": [
       "<div>\n",
       "<style scoped>\n",
       "    .dataframe tbody tr th:only-of-type {\n",
       "        vertical-align: middle;\n",
       "    }\n",
       "\n",
       "    .dataframe tbody tr th {\n",
       "        vertical-align: top;\n",
       "    }\n",
       "\n",
       "    .dataframe thead th {\n",
       "        text-align: right;\n",
       "    }\n",
       "</style>\n",
       "<table border=\"1\" class=\"dataframe\">\n",
       "  <thead>\n",
       "    <tr style=\"text-align: right;\">\n",
       "      <th></th>\n",
       "      <th>ticker</th>\n",
       "      <th>date_min</th>\n",
       "      <th>date_max</th>\n",
       "    </tr>\n",
       "  </thead>\n",
       "  <tbody>\n",
       "    <tr>\n",
       "      <th>0</th>\n",
       "      <td>ETH</td>\n",
       "      <td>2017-01-01</td>\n",
       "      <td>2021-08-29</td>\n",
       "    </tr>\n",
       "    <tr>\n",
       "      <th>1</th>\n",
       "      <td>BTC</td>\n",
       "      <td>2017-01-01</td>\n",
       "      <td>2021-08-29</td>\n",
       "    </tr>\n",
       "  </tbody>\n",
       "</table>\n",
       "</div>"
      ],
      "text/plain": [
       "  ticker    date_min    date_max\n",
       "0    ETH  2017-01-01  2021-08-29\n",
       "1    BTC  2017-01-01  2021-08-29"
      ]
     },
     "metadata": {},
     "execution_count": 12
    }
   ],
   "metadata": {}
  },
  {
   "cell_type": "markdown",
   "source": [
    "## Question 5\r\n",
    "What is the average of the `price` column for Bitcoin records during the year 2020?"
   ],
   "metadata": {}
  },
  {
   "cell_type": "code",
   "execution_count": 17,
   "source": [
    "pd.read_sql_query(\r\n",
    "    \"\"\"\r\n",
    "    SELECT\r\n",
    "        AVG(price)\r\n",
    "    FROM trading.prices\r\n",
    "    WHERE ticker = 'BTC' \r\n",
    "        AND EXTRACT(YEAR FROM market_date)='2020'\r\n",
    "    \"\"\",\r\n",
    "    connection\r\n",
    ")"
   ],
   "outputs": [
    {
     "output_type": "execute_result",
     "data": {
      "text/html": [
       "<div>\n",
       "<style scoped>\n",
       "    .dataframe tbody tr th:only-of-type {\n",
       "        vertical-align: middle;\n",
       "    }\n",
       "\n",
       "    .dataframe tbody tr th {\n",
       "        vertical-align: top;\n",
       "    }\n",
       "\n",
       "    .dataframe thead th {\n",
       "        text-align: right;\n",
       "    }\n",
       "</style>\n",
       "<table border=\"1\" class=\"dataframe\">\n",
       "  <thead>\n",
       "    <tr style=\"text-align: right;\">\n",
       "      <th></th>\n",
       "      <th>AVG(price)</th>\n",
       "    </tr>\n",
       "  </thead>\n",
       "  <tbody>\n",
       "    <tr>\n",
       "      <th>0</th>\n",
       "      <td>11111.631152</td>\n",
       "    </tr>\n",
       "  </tbody>\n",
       "</table>\n",
       "</div>"
      ],
      "text/plain": [
       "     AVG(price)\n",
       "0  11111.631152"
      ]
     },
     "metadata": {},
     "execution_count": 17
    }
   ],
   "metadata": {}
  },
  {
   "cell_type": "markdown",
   "source": [
    "## Question 6\r\n",
    "What is the monthly average of the `price` column for Ethereum in 2020? Sort the output in chronological order and also round the average price value to 2 decimal places"
   ],
   "metadata": {}
  },
  {
   "cell_type": "code",
   "execution_count": 29,
   "source": [
    "pd.read_sql_query(\r\n",
    "    \"\"\"\r\n",
    "    SELECT\r\n",
    "        EXTRACT(MONTH FROM market_date) AS month,\r\n",
    "        ROUND(AVG(price), 2) AS average_eth_price\r\n",
    "    FROM trading.prices\r\n",
    "    WHERE ticker='ETH'\r\n",
    "        AND market_date BETWEEN '2020-01-01' AND '2020-12-31'\r\n",
    "    GROUP BY month\r\n",
    "    ORDER BY month;\r\n",
    "    \"\"\",\r\n",
    "    connection\r\n",
    ")"
   ],
   "outputs": [
    {
     "output_type": "execute_result",
     "data": {
      "text/html": [
       "<div>\n",
       "<style scoped>\n",
       "    .dataframe tbody tr th:only-of-type {\n",
       "        vertical-align: middle;\n",
       "    }\n",
       "\n",
       "    .dataframe tbody tr th {\n",
       "        vertical-align: top;\n",
       "    }\n",
       "\n",
       "    .dataframe thead th {\n",
       "        text-align: right;\n",
       "    }\n",
       "</style>\n",
       "<table border=\"1\" class=\"dataframe\">\n",
       "  <thead>\n",
       "    <tr style=\"text-align: right;\">\n",
       "      <th></th>\n",
       "      <th>month</th>\n",
       "      <th>average_eth_price</th>\n",
       "    </tr>\n",
       "  </thead>\n",
       "  <tbody>\n",
       "    <tr>\n",
       "      <th>0</th>\n",
       "      <td>1</td>\n",
       "      <td>156.65</td>\n",
       "    </tr>\n",
       "    <tr>\n",
       "      <th>1</th>\n",
       "      <td>2</td>\n",
       "      <td>238.76</td>\n",
       "    </tr>\n",
       "    <tr>\n",
       "      <th>2</th>\n",
       "      <td>3</td>\n",
       "      <td>160.18</td>\n",
       "    </tr>\n",
       "    <tr>\n",
       "      <th>3</th>\n",
       "      <td>4</td>\n",
       "      <td>171.29</td>\n",
       "    </tr>\n",
       "    <tr>\n",
       "      <th>4</th>\n",
       "      <td>5</td>\n",
       "      <td>207.45</td>\n",
       "    </tr>\n",
       "    <tr>\n",
       "      <th>5</th>\n",
       "      <td>6</td>\n",
       "      <td>235.92</td>\n",
       "    </tr>\n",
       "    <tr>\n",
       "      <th>6</th>\n",
       "      <td>7</td>\n",
       "      <td>259.57</td>\n",
       "    </tr>\n",
       "    <tr>\n",
       "      <th>7</th>\n",
       "      <td>8</td>\n",
       "      <td>401.73</td>\n",
       "    </tr>\n",
       "    <tr>\n",
       "      <th>8</th>\n",
       "      <td>9</td>\n",
       "      <td>367.77</td>\n",
       "    </tr>\n",
       "    <tr>\n",
       "      <th>9</th>\n",
       "      <td>10</td>\n",
       "      <td>375.79</td>\n",
       "    </tr>\n",
       "    <tr>\n",
       "      <th>10</th>\n",
       "      <td>11</td>\n",
       "      <td>486.73</td>\n",
       "    </tr>\n",
       "    <tr>\n",
       "      <th>11</th>\n",
       "      <td>12</td>\n",
       "      <td>622.35</td>\n",
       "    </tr>\n",
       "  </tbody>\n",
       "</table>\n",
       "</div>"
      ],
      "text/plain": [
       "    month  average_eth_price\n",
       "0       1             156.65\n",
       "1       2             238.76\n",
       "2       3             160.18\n",
       "3       4             171.29\n",
       "4       5             207.45\n",
       "5       6             235.92\n",
       "6       7             259.57\n",
       "7       8             401.73\n",
       "8       9             367.77\n",
       "9      10             375.79\n",
       "10     11             486.73\n",
       "11     12             622.35"
      ]
     },
     "metadata": {},
     "execution_count": 29
    }
   ],
   "metadata": {}
  },
  {
   "cell_type": "markdown",
   "source": [
    "## Question 7\r\n",
    "Are there any duplicate `market_date` values for any ticker value in our table?"
   ],
   "metadata": {}
  },
  {
   "cell_type": "code",
   "execution_count": 26,
   "source": [
    "pd.read_sql_query(\r\n",
    "    \"\"\"\r\n",
    "    SELECT\r\n",
    "        ticker,\r\n",
    "        COUNT(market_date) AS total_count,\r\n",
    "        COUNT(DISTINCT market_date) AS unique_count\r\n",
    "    FROM trading.prices\r\n",
    "    GROUP BY ticker;\r\n",
    "    \"\"\",\r\n",
    "    connection\r\n",
    ")"
   ],
   "outputs": [
    {
     "output_type": "execute_result",
     "data": {
      "text/html": [
       "<div>\n",
       "<style scoped>\n",
       "    .dataframe tbody tr th:only-of-type {\n",
       "        vertical-align: middle;\n",
       "    }\n",
       "\n",
       "    .dataframe tbody tr th {\n",
       "        vertical-align: top;\n",
       "    }\n",
       "\n",
       "    .dataframe thead th {\n",
       "        text-align: right;\n",
       "    }\n",
       "</style>\n",
       "<table border=\"1\" class=\"dataframe\">\n",
       "  <thead>\n",
       "    <tr style=\"text-align: right;\">\n",
       "      <th></th>\n",
       "      <th>ticker</th>\n",
       "      <th>total_count</th>\n",
       "      <th>unique_count</th>\n",
       "    </tr>\n",
       "  </thead>\n",
       "  <tbody>\n",
       "    <tr>\n",
       "      <th>0</th>\n",
       "      <td>BTC</td>\n",
       "      <td>1702</td>\n",
       "      <td>1702</td>\n",
       "    </tr>\n",
       "    <tr>\n",
       "      <th>1</th>\n",
       "      <td>ETH</td>\n",
       "      <td>1702</td>\n",
       "      <td>1702</td>\n",
       "    </tr>\n",
       "  </tbody>\n",
       "</table>\n",
       "</div>"
      ],
      "text/plain": [
       "  ticker  total_count  unique_count\n",
       "0    BTC         1702          1702\n",
       "1    ETH         1702          1702"
      ]
     },
     "metadata": {},
     "execution_count": 26
    }
   ],
   "metadata": {}
  },
  {
   "cell_type": "markdown",
   "source": [
    "## Question 8\r\n",
    "How many days from the `trading.prices` table exist where the high price of Bitcoin is over $30,000?"
   ],
   "metadata": {}
  },
  {
   "cell_type": "code",
   "execution_count": 31,
   "source": [
    "pd.read_sql_query(\r\n",
    "    \"\"\"\r\n",
    "    SELECT \r\n",
    "        COUNT(*) as days\r\n",
    "    FROM trading.prices\r\n",
    "    WHERE ticker = 'BTC'\r\n",
    "        AND price > 30000 \r\n",
    "    \"\"\",\r\n",
    "    connection\r\n",
    ")"
   ],
   "outputs": [
    {
     "output_type": "execute_result",
     "data": {
      "text/html": [
       "<div>\n",
       "<style scoped>\n",
       "    .dataframe tbody tr th:only-of-type {\n",
       "        vertical-align: middle;\n",
       "    }\n",
       "\n",
       "    .dataframe tbody tr th {\n",
       "        vertical-align: top;\n",
       "    }\n",
       "\n",
       "    .dataframe thead th {\n",
       "        text-align: right;\n",
       "    }\n",
       "</style>\n",
       "<table border=\"1\" class=\"dataframe\">\n",
       "  <thead>\n",
       "    <tr style=\"text-align: right;\">\n",
       "      <th></th>\n",
       "      <th>days</th>\n",
       "    </tr>\n",
       "  </thead>\n",
       "  <tbody>\n",
       "    <tr>\n",
       "      <th>0</th>\n",
       "      <td>239</td>\n",
       "    </tr>\n",
       "  </tbody>\n",
       "</table>\n",
       "</div>"
      ],
      "text/plain": [
       "   days\n",
       "0   239"
      ]
     },
     "metadata": {},
     "execution_count": 31
    }
   ],
   "metadata": {}
  },
  {
   "cell_type": "markdown",
   "source": [
    "## Question 9\r\n",
    "How many \"breakout\" days were there in 2020 where the `price` column is greater than the open column for each ticker?"
   ],
   "metadata": {}
  },
  {
   "cell_type": "code",
   "execution_count": 39,
   "source": [
    "pd.read_sql_query(\r\n",
    "    \"\"\"\r\n",
    "    SELECT\r\n",
    "        ticker,\r\n",
    "        SUM(CASE WHEN price > open THEN 1 ELSE 0 END) AS breakout_days\r\n",
    "    FROM trading.prices\r\n",
    "    WHERE market_date BETWEEN '2020-01-01' AND '2020-12-31'\r\n",
    "    GROUP BY ticker;\r\n",
    "    \"\"\",\r\n",
    "    connection\r\n",
    ")"
   ],
   "outputs": [
    {
     "output_type": "execute_result",
     "data": {
      "text/html": [
       "<div>\n",
       "<style scoped>\n",
       "    .dataframe tbody tr th:only-of-type {\n",
       "        vertical-align: middle;\n",
       "    }\n",
       "\n",
       "    .dataframe tbody tr th {\n",
       "        vertical-align: top;\n",
       "    }\n",
       "\n",
       "    .dataframe thead th {\n",
       "        text-align: right;\n",
       "    }\n",
       "</style>\n",
       "<table border=\"1\" class=\"dataframe\">\n",
       "  <thead>\n",
       "    <tr style=\"text-align: right;\">\n",
       "      <th></th>\n",
       "      <th>ticker</th>\n",
       "      <th>breakout_days</th>\n",
       "    </tr>\n",
       "  </thead>\n",
       "  <tbody>\n",
       "    <tr>\n",
       "      <th>0</th>\n",
       "      <td>ETH</td>\n",
       "      <td>200.0</td>\n",
       "    </tr>\n",
       "    <tr>\n",
       "      <th>1</th>\n",
       "      <td>BTC</td>\n",
       "      <td>207.0</td>\n",
       "    </tr>\n",
       "  </tbody>\n",
       "</table>\n",
       "</div>"
      ],
      "text/plain": [
       "  ticker  breakout_days\n",
       "0    ETH          200.0\n",
       "1    BTC          207.0"
      ]
     },
     "metadata": {},
     "execution_count": 39
    }
   ],
   "metadata": {}
  },
  {
   "cell_type": "markdown",
   "source": [
    "## Question 10\r\n",
    "How many \"non_breakout\" days were there in 2020 where the `price` column is less than the open column for each ticker?"
   ],
   "metadata": {}
  },
  {
   "cell_type": "code",
   "execution_count": 50,
   "source": [
    "pd.read_sql_query(\r\n",
    "    \"\"\"\r\n",
    "    SELECT\r\n",
    "        ticker,\r\n",
    "        SUM(CASE WHEN price < open THEN 1 ELSE 0 END) AS non_breakout_days\r\n",
    "    FROM trading.prices\r\n",
    "    WHERE market_date BETWEEN '2020-01-01' AND '2020-12-31'\r\n",
    "    GROUP BY ticker;\r\n",
    "    \"\"\",\r\n",
    "    connection\r\n",
    ")"
   ],
   "outputs": [
    {
     "output_type": "execute_result",
     "data": {
      "text/html": [
       "<div>\n",
       "<style scoped>\n",
       "    .dataframe tbody tr th:only-of-type {\n",
       "        vertical-align: middle;\n",
       "    }\n",
       "\n",
       "    .dataframe tbody tr th {\n",
       "        vertical-align: top;\n",
       "    }\n",
       "\n",
       "    .dataframe thead th {\n",
       "        text-align: right;\n",
       "    }\n",
       "</style>\n",
       "<table border=\"1\" class=\"dataframe\">\n",
       "  <thead>\n",
       "    <tr style=\"text-align: right;\">\n",
       "      <th></th>\n",
       "      <th>ticker</th>\n",
       "      <th>non_breakout_days</th>\n",
       "    </tr>\n",
       "  </thead>\n",
       "  <tbody>\n",
       "    <tr>\n",
       "      <th>0</th>\n",
       "      <td>ETH</td>\n",
       "      <td>166.0</td>\n",
       "    </tr>\n",
       "    <tr>\n",
       "      <th>1</th>\n",
       "      <td>BTC</td>\n",
       "      <td>159.0</td>\n",
       "    </tr>\n",
       "  </tbody>\n",
       "</table>\n",
       "</div>"
      ],
      "text/plain": [
       "  ticker  non_breakout_days\n",
       "0    ETH              166.0\n",
       "1    BTC              159.0"
      ]
     },
     "metadata": {},
     "execution_count": 50
    }
   ],
   "metadata": {}
  },
  {
   "cell_type": "markdown",
   "source": [
    "## Question 11\r\n",
    "What percentage of days in 2020 were breakout days vs non-breakout days? Round the percentages to 2 decimal places"
   ],
   "metadata": {}
  },
  {
   "cell_type": "code",
   "execution_count": 49,
   "source": [
    "pd.read_sql_query(\r\n",
    "    \"\"\"\r\n",
    "    SELECT\r\n",
    "        ticker,\r\n",
    "        ROUND(SUM(CASE WHEN open < price THEN 1 ELSE 0 END)/COUNT(*), 2) AS breakout_percentage,\r\n",
    "        ROUND(SUM(CASE WHEN open > price THEN 1 ELSE 0 END)/COUNT(*), 2) AS non_breakout_percentage\r\n",
    "    FROM trading.prices\r\n",
    "    WHERE market_date >= '2020-01-01' AND market_date <= '2020-12-31'\r\n",
    "    GROUP BY ticker;\r\n",
    "    \"\"\",\r\n",
    "    connection\r\n",
    ")"
   ],
   "outputs": [
    {
     "output_type": "execute_result",
     "data": {
      "text/html": [
       "<div>\n",
       "<style scoped>\n",
       "    .dataframe tbody tr th:only-of-type {\n",
       "        vertical-align: middle;\n",
       "    }\n",
       "\n",
       "    .dataframe tbody tr th {\n",
       "        vertical-align: top;\n",
       "    }\n",
       "\n",
       "    .dataframe thead th {\n",
       "        text-align: right;\n",
       "    }\n",
       "</style>\n",
       "<table border=\"1\" class=\"dataframe\">\n",
       "  <thead>\n",
       "    <tr style=\"text-align: right;\">\n",
       "      <th></th>\n",
       "      <th>ticker</th>\n",
       "      <th>breakout_percentage</th>\n",
       "      <th>non_breakout_percentage</th>\n",
       "    </tr>\n",
       "  </thead>\n",
       "  <tbody>\n",
       "    <tr>\n",
       "      <th>0</th>\n",
       "      <td>ETH</td>\n",
       "      <td>0.55</td>\n",
       "      <td>0.45</td>\n",
       "    </tr>\n",
       "    <tr>\n",
       "      <th>1</th>\n",
       "      <td>BTC</td>\n",
       "      <td>0.57</td>\n",
       "      <td>0.43</td>\n",
       "    </tr>\n",
       "  </tbody>\n",
       "</table>\n",
       "</div>"
      ],
      "text/plain": [
       "  ticker  breakout_percentage  non_breakout_percentage\n",
       "0    ETH                 0.55                     0.45\n",
       "1    BTC                 0.57                     0.43"
      ]
     },
     "metadata": {},
     "execution_count": 49
    }
   ],
   "metadata": {}
  },
  {
   "cell_type": "markdown",
   "source": [
    "# Appendix\r\n",
    "## Date Manipulations\r\n",
    "\r\n",
    "There are all valid methods to qualify `DATE` or `TIMESTAMP` values within a range using a `WHERE` filter:\r\n",
    "\r\n",
    "```\r\n",
    "- market_date BETWEEN '2020-01-01' AND '2020-12-31'\r\n",
    "- EXTRACT(YEAR FROM market_date) = 2020\r\n",
    "- DATE_TRUNC('YEAR', market_date) = '2020-01-01' (doesn'work in MySQL)\r\n",
    "- market_date >= '2020-01-01' AND market_date <= '2020-12-31'\r\n",
    "```\r\n",
    "The only additional thing to note is that `DATE_TRUNC` returns a `TIMESTAMP` data type which can be cast back to a regular `DATE`."
   ],
   "metadata": {}
  },
  {
   "cell_type": "markdown",
   "source": [
    "# References\r\n",
    "- [Data With Danny Course - Step 3](https://github.com/DataWithDanny/sql-masterclass/blob/main/course-content/step3.md)"
   ],
   "metadata": {}
  }
 ],
 "metadata": {
  "orig_nbformat": 4,
  "language_info": {
   "name": "python",
   "version": "3.9.5",
   "mimetype": "text/x-python",
   "codemirror_mode": {
    "name": "ipython",
    "version": 3
   },
   "pygments_lexer": "ipython3",
   "nbconvert_exporter": "python",
   "file_extension": ".py"
  },
  "kernelspec": {
   "name": "python3",
   "display_name": "Python 3.9.5 64-bit"
  },
  "interpreter": {
   "hash": "af08a664c9379a2eef6a59a35895b3c7b95bf968efc61f7032ca2d38064b34f9"
  }
 },
 "nbformat": 4,
 "nbformat_minor": 2
}